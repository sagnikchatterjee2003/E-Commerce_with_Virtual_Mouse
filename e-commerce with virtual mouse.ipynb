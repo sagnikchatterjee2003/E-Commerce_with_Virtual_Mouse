{
 "cells": [
  {
   "metadata": {},
   "cell_type": "markdown",
   "source": "# E-Commerce with Virtual Mouse",
   "id": "9f76c099da9731"
  },
  {
   "cell_type": "code",
   "id": "initial_id",
   "metadata": {
    "collapsed": true,
    "ExecuteTime": {
     "end_time": "2025-07-21T17:10:29.893526Z",
     "start_time": "2025-07-21T17:10:28.697761Z"
    }
   },
   "source": [
    "import cv2\n",
    "import mediapipe as mp\n",
    "import pyautogui\n",
    "import numpy as np\n",
    "import math\n",
    "import time\n",
    "import webbrowser\n",
    "import threading\n",
    "from flask import Flask, request"
   ],
   "outputs": [],
   "execution_count": 1
  },
  {
   "metadata": {},
   "cell_type": "markdown",
   "source": "Configuration",
   "id": "4811b59969358b73"
  },
  {
   "metadata": {
    "ExecuteTime": {
     "end_time": "2025-07-21T17:11:44.496297Z",
     "start_time": "2025-07-21T17:11:44.467106Z"
    }
   },
   "cell_type": "code",
   "source": [
    "WEBCAM_ID = 0\n",
    "CAM_WIDTH = 640\n",
    "CAM_HEIGHT = 480\n",
    "SMOOTHING = 7\n",
    "FRAME_REDUCTION = 100\n",
    "SERVER_PORT = 5000"
   ],
   "id": "ad3513a4d06b8554",
   "outputs": [],
   "execution_count": 2
  },
  {
   "metadata": {},
   "cell_type": "markdown",
   "source": "Global Shutdown Event for Threading",
   "id": "f8d310a91f8ac3"
  },
  {
   "metadata": {
    "ExecuteTime": {
     "end_time": "2025-07-21T17:12:08.558075Z",
     "start_time": "2025-07-21T17:12:08.542420Z"
    }
   },
   "cell_type": "code",
   "source": "shutdown_event = threading.Event()",
   "id": "72013251ca788b55",
   "outputs": [],
   "execution_count": 3
  },
  {
   "metadata": {},
   "cell_type": "markdown",
   "source": "HTML for the E-Commerce Frontend",
   "id": "ba3135e28682296e"
  },
  {
   "metadata": {
    "ExecuteTime": {
     "end_time": "2025-07-21T17:13:10.165462Z",
     "start_time": "2025-07-21T17:13:10.155226Z"
    }
   },
   "cell_type": "code",
   "source": [
    "HTML_CONTENT = \"\"\"\n",
    "<!DOCTYPE html>\n",
    "<html lang=\"en\">\n",
    "<head>\n",
    "    <meta charset=\"UTF-8\">\n",
    "    <meta name=\"viewport\" content=\"width=device-width, initial-scale=1.0\">\n",
    "    <title>GestureMart - Python Edition</title>\n",
    "    <script src=\"https://cdn.tailwindcss.com\"></script>\n",
    "    <link href=\"https://fonts.googleapis.com/css2?family=Inter:wght@400;500;600;700&display=swap\" rel=\"stylesheet\">\n",
    "    <style>\n",
    "        body { font-family: 'Inter', sans-serif; }\n",
    "        .product-card:hover {\n",
    "            transform: translateY(-5px);\n",
    "            box-shadow: 0 10px 15px -3px rgb(0 0 0 / 0.1), 0 4px 6px -4px rgb(0 0 0 / 0.1);\n",
    "        }\n",
    "        .product-card { transition: transform 0.3s ease, box-shadow 0.3s ease; }\n",
    "    </style>\n",
    "</head>\n",
    "<body class=\"bg-gray-100 text-gray-800\">\n",
    "    <div class=\"container mx-auto px-4 py-8\">\n",
    "        <header class=\"flex justify-between items-center mb-8 pb-4 border-b border-gray-300\">\n",
    "            <h1 class=\"text-4xl font-bold text-indigo-600\">GestureMart</h1>\n",
    "            <div class=\"text-lg\">\n",
    "                <span class=\"font-semibold\">Cart:</span>\n",
    "                <span id=\"cart-count\">0</span> items\n",
    "            </div>\n",
    "        </header>\n",
    "        <div id=\"products\" class=\"grid grid-cols-1 md:grid-cols-2 lg:grid-cols-3 gap-8\">\n",
    "            <div class=\"bg-white rounded-lg shadow-md p-6 product-card\">\n",
    "                <img src=\"https://placehold.co/400x300/e2e8f0/4a5568?text=Smart+Watch\" alt=\"Smart Watch\" class=\"rounded-md mb-4 w-full h-48 object-cover\">\n",
    "                <h2 class=\"text-2xl font-bold mb-2\">Futura Watch</h2><p class=\"text-gray-600 mb-4\">The smartwatch that knows you better.</p>\n",
    "                <div class=\"flex justify-between items-center\"><span class=\"text-3xl font-bold text-indigo-600\">$299</span><button class=\"bg-indigo-500 text-white font-bold py-2 px-4 rounded-lg hover:bg-indigo-600 transition-colors\">Add to Cart</button></div>\n",
    "            </div>\n",
    "            <div class=\"bg-white rounded-lg shadow-md p-6 product-card\">\n",
    "                <img src=\"https://placehold.co/400x300/dbeafe/1e3a8a?text=VR+Headset\" alt=\"VR Headset\" class=\"rounded-md mb-4 w-full h-48 object-cover\">\n",
    "                <h2 class=\"text-2xl font-bold mb-2\">Portal VR</h2><p class=\"text-gray-600 mb-4\">Escape reality. Or just make it better.</p>\n",
    "                <div class=\"flex justify-between items-center\"><span class=\"text-3xl font-bold text-indigo-600\">$450</span><button class=\"bg-indigo-500 text-white font-bold py-2 px-4 rounded-lg hover:bg-indigo-600 transition-colors\">Add to Cart</button></div>\n",
    "            </div>\n",
    "            <div class=\"bg-white rounded-lg shadow-md p-6 product-card\">\n",
    "                <img src=\"https://placehold.co/400x300/e0f2fe/0891b2?text=AI+Speaker\" alt=\"AI Speaker\" class=\"rounded-md mb-4 w-full h-48 object-cover\">\n",
    "                <h2 class=\"text-2xl font-bold mb-2\">EchoSphere</h2><p class=\"text-gray-600 mb-4\">It's always listening. In a helpful way.</p>\n",
    "                <div class=\"flex justify-between items-center\"><span class=\"text-3xl font-bold text-indigo-600\">$129</span><button class=\"bg-indigo-500 text-white font-bold py-2 px-4 rounded-lg hover:bg-indigo-600 transition-colors\">Add to Cart</button></div>\n",
    "            </div>\n",
    "        </div>\n",
    "        <div class=\"text-center mt-12\"><button id=\"buy-now\" class=\"bg-emerald-500 text-white font-bold py-4 px-8 rounded-lg text-2xl hover:bg-emerald-600 transition-colors shadow-lg\">Buy Now</button></div>\n",
    "    </div>\n",
    "    <div id=\"success-modal\" class=\"hidden fixed inset-0 bg-gray-900 bg-opacity-75 flex items-center justify-center z-50\">\n",
    "        <div class=\"bg-white p-8 rounded-lg shadow-2xl text-center\">\n",
    "            <h2 class=\"text-3xl font-bold text-emerald-500 mb-4\">Thank You!</h2>\n",
    "            <p class=\"text-lg text-gray-700\">Items Bought Successfully!</p>\n",
    "            <p class=\"text-sm text-gray-500 mt-2\">Application will close in <span id=\"countdown\">10</span> seconds.</p>\n",
    "        </div>\n",
    "    </div>\n",
    "    <script>\n",
    "        let cartCount = 0;\n",
    "        const cartCountEl = document.getElementById('cart-count');\n",
    "        document.getElementById('products').addEventListener('click', (e) => {\n",
    "            if (e.target.tagName === 'BUTTON' && e.target.textContent === 'Add to Cart') {\n",
    "                cartCount++;\n",
    "                cartCountEl.textContent = cartCount;\n",
    "            }\n",
    "        });\n",
    "        document.getElementById('buy-now').addEventListener('click', () => {\n",
    "            if (cartCount > 0) {\n",
    "                document.getElementById('success-modal').classList.remove('hidden');\n",
    "                let seconds = 10;\n",
    "                const countdownEl = document.getElementById('countdown');\n",
    "                countdownEl.textContent = seconds;\n",
    "                const interval = setInterval(() => {\n",
    "                    seconds--;\n",
    "                    countdownEl.textContent = seconds;\n",
    "                    if (seconds <= 0) {\n",
    "                        clearInterval(interval);\n",
    "                        // This is the key change: send a request to our Python server to shut down.\n",
    "                        fetch('/shutdown').then(() => {\n",
    "                            document.body.innerHTML = '<div class=\"w-screen h-screen flex items-center justify-center bg-gray-900 text-white text-2xl\">Session Ended. Closing...</div>';\n",
    "                        });\n",
    "                    }\n",
    "                }, 1000);\n",
    "            } else {\n",
    "                alert(\"Your cart is empty!\");\n",
    "            }\n",
    "        });\n",
    "    </script>\n",
    "</body>\n",
    "</html>\n",
    "\"\"\""
   ],
   "id": "d6578ffc2d60b404",
   "outputs": [],
   "execution_count": 4
  },
  {
   "metadata": {},
   "cell_type": "markdown",
   "source": "Flask Web Server",
   "id": "a55b4f4f44ddae34"
  },
  {
   "metadata": {
    "ExecuteTime": {
     "end_time": "2025-07-21T17:17:05.097875Z",
     "start_time": "2025-07-21T17:17:05.087773Z"
    }
   },
   "cell_type": "code",
   "source": [
    "app = Flask(__name__)\n",
    "\n",
    "\n",
    "@app.route('/')\n",
    "# Home Page\n",
    "def home():\n",
    "    return HTML_CONTENT\n",
    "\n",
    "\n",
    "@app.route('/shutdown', methods=['GET'])\n",
    "# Endpoint to trigger application shutdown\n",
    "def shutdown():\n",
    "    print(\"Shutdown signal received from browser.\")\n",
    "    shutdown_event.set()\n",
    "    func = request.environ.get('werkzeug.server.shutdown')\n",
    "    if func is None:\n",
    "        raise RuntimeError('Not running with the Werkzeug Server')\n",
    "    func()\n",
    "    return 'Server shutting down...'\n",
    "\n",
    "\n",
    "# Runs the Flask app in a separate thread\n",
    "def run_flask_app():\n",
    "    app.run(port=SERVER_PORT, debug=False, use_reloader=False) # Disable reloader to prevent the script from running twice"
   ],
   "id": "8b3bcd99e967989",
   "outputs": [],
   "execution_count": 5
  },
  {
   "metadata": {},
   "cell_type": "markdown",
   "source": "AI Virtual Mouse Functionality",
   "id": "2549ba103e14a2c8"
  },
  {
   "metadata": {
    "ExecuteTime": {
     "end_time": "2025-07-21T17:19:27.230783Z",
     "start_time": "2025-07-21T17:19:27.218263Z"
    }
   },
   "cell_type": "code",
   "source": [
    "# Main function\n",
    "def run_virtual_mouse():\n",
    "    p_time = 0\n",
    "    p_loc_x, p_loc_y = 0, 0\n",
    "    c_loc_x, c_loc_y = 0, 0\n",
    "    last_scroll_time = 0\n",
    "\n",
    "    cap = cv2.VideoCapture(WEBCAM_ID)\n",
    "    if not cap.isOpened():\n",
    "        print(f\"Error: Could not open webcam with ID {WEBCAM_ID}.\")\n",
    "        return\n",
    "    cap.set(3, CAM_WIDTH)\n",
    "    cap.set(4, CAM_HEIGHT)\n",
    "\n",
    "    screen_width, screen_height = pyautogui.size()\n",
    "    pyautogui.FAILSAFE = False\n",
    "\n",
    "    mp_hands = mp.solutions.hands\n",
    "    hands = mp_hands.Hands(max_num_hands=1, min_detection_confidence=0.7, min_tracking_confidence=0.5)\n",
    "    mp_draw = mp.solutions.drawing_utils\n",
    "\n",
    "    print(\"AI Virtual Mouse thread started.\")\n",
    "\n",
    "    while not shutdown_event.is_set():\n",
    "        success, frame = cap.read()\n",
    "        if not success:\n",
    "            continue\n",
    "\n",
    "        frame = cv2.flip(frame, 1)\n",
    "        frame_rgb = cv2.cvtColor(frame, cv2.COLOR_BGR2RGB)\n",
    "        results = hands.process(frame_rgb)\n",
    "\n",
    "        if results.multi_hand_landmarks:\n",
    "            hand_landmarks = results.multi_hand_landmarks[0]\n",
    "\n",
    "            # Get landmark coordinates\n",
    "            index_tip = hand_landmarks.landmark[mp_hands.HandLandmark.INDEX_FINGER_TIP]\n",
    "            middle_tip = hand_landmarks.landmark[mp_hands.HandLandmark.MIDDLE_FINGER_TIP]\n",
    "            ring_tip = hand_landmarks.landmark[mp_hands.HandLandmark.RING_FINGER_TIP]\n",
    "            index_mcp = hand_landmarks.landmark[mp_hands.HandLandmark.INDEX_FINGER_MCP]\n",
    "            middle_mcp = hand_landmarks.landmark[mp_hands.HandLandmark.MIDDLE_FINGER_MCP]\n",
    "            ring_mcp = hand_landmarks.landmark[mp_hands.HandLandmark.RING_FINGER_MCP]\n",
    "\n",
    "            h, w, c = frame.shape\n",
    "            ix, iy = int(index_tip.x * w), int(index_tip.y * h)\n",
    "\n",
    "            # Cursor Movement\n",
    "            screen_x = np.interp(ix, (FRAME_REDUCTION, w - FRAME_REDUCTION), (0, screen_width))\n",
    "            screen_y = np.interp(iy, (FRAME_REDUCTION, h - FRAME_REDUCTION), (0, screen_height))\n",
    "            c_loc_x = p_loc_x + (screen_x - p_loc_x) / SMOOTHING\n",
    "            c_loc_y = p_loc_y + (screen_y - p_loc_y) / SMOOTHING\n",
    "            pyautogui.moveTo(c_loc_x, c_loc_y)\n",
    "            p_loc_x, p_loc_y = c_loc_x, c_loc_y\n",
    "\n",
    "            # Click Gesture\n",
    "            click_distance = math.hypot(middle_tip.x - index_tip.x, middle_tip.y - index_tip.y)\n",
    "            if click_distance < 0.05:\n",
    "                pyautogui.click()\n",
    "                cv2.circle(frame, (ix, iy), 15, (0, 255, 0), cv2.FILLED)\n",
    "                time.sleep(0.2) # Debounce click\n",
    "\n",
    "            # Scroll Gesture (3 fingers up)\n",
    "            if (index_tip.y < index_mcp.y and\n",
    "                middle_tip.y < middle_mcp.y and\n",
    "                ring_tip.y < ring_mcp.y):\n",
    "\n",
    "                # Scroll up if hand moves up, scroll down if hand moves down\n",
    "                scroll_amount = int((index_mcp.y - index_tip.y) * 20) # Negative to invert scroll direction\n",
    "                pyautogui.scroll(scroll_amount)\n",
    "                cv2.putText(frame, \"SCROLLING\", (150, 50), cv2.FONT_HERSHEY_PLAIN, 3, (0, 165, 255), 3)\n",
    "                # Add a small delay to prevent excessive scrolling\n",
    "                time.sleep(0.1)\n",
    "\n",
    "            mp_draw.draw_landmarks(frame, hand_landmarks, mp_hands.HAND_CONNECTIONS)\n",
    "\n",
    "        # Display FPS\n",
    "        c_time = time.time()\n",
    "        fps = 1 / (c_time - p_time) if (c_time - p_time) > 0 else 0\n",
    "        p_time = c_time\n",
    "        cv2.putText(frame, f'FPS: {int(fps)}', (20, 50), cv2.FONT_HERSHEY_PLAIN, 3, (255, 0, 0), 3)\n",
    "\n",
    "        cv2.imshow(\"AI Virtual Mouse - Press 'q' in this window to force quit\", frame)\n",
    "        if cv2.waitKey(1) & 0xFF == ord('q'):\n",
    "            shutdown_event.set() # Also allow manual quit\n",
    "            break\n",
    "\n",
    "    # Cleanup\n",
    "    print(\"Virtual mouse thread shutting down...\")\n",
    "    cap.release()\n",
    "    cv2.destroyAllWindows()\n",
    "    hands.close()"
   ],
   "id": "b8e0aff3e784c1bc",
   "outputs": [],
   "execution_count": 6
  },
  {
   "metadata": {},
   "cell_type": "markdown",
   "source": "Main Execution Block",
   "id": "58ac9d75de8a31b5"
  },
  {
   "metadata": {
    "ExecuteTime": {
     "end_time": "2025-07-21T17:29:20.431944Z",
     "start_time": "2025-07-21T17:27:46.980011Z"
    }
   },
   "cell_type": "code",
   "source": [
    "if __name__ == '__main__':\n",
    "    print(\"Starting application...\")\n",
    "\n",
    "    # Start the Flask server in a daemon thread\n",
    "    flask_thread = threading.Thread(target=run_flask_app, daemon=True)\n",
    "    flask_thread.start()\n",
    "    print(f\"Web server started on http://127.0.0.1:{SERVER_PORT}\")\n",
    "\n",
    "    # Start the virtual mouse in another thread\n",
    "    mouse_thread = threading.Thread(target=run_virtual_mouse)\n",
    "    mouse_thread.start()\n",
    "\n",
    "    # Open the web browser to the e-commerce page\n",
    "    time.sleep(1) # Give the server a moment to start\n",
    "    webbrowser.open_new(f\"http://127.0.0.1:{SERVER_PORT}\")\n",
    "    print(\"Browser opened. The application is now running.\")\n",
    "    print(\"Control the mouse with your hand. Close the browser or use the 'Buy Now' flow to exit.\")\n",
    "\n",
    "    # Wait for the shutdown signal\n",
    "    shutdown_event.wait()\n",
    "    print(\"Main thread received shutdown signal. Terminating.\")\n",
    "\n",
    "    # Wait for the mouse thread to finish its cleanup\n",
    "    mouse_thread.join()\n",
    "\n",
    "    print(\"Application has terminated successfully.\")"
   ],
   "id": "9e040970d95cce8f",
   "outputs": [
    {
     "name": "stdout",
     "output_type": "stream",
     "text": [
      "Starting application...\n",
      "Web server started on http://127.0.0.1:5000\n",
      " * Serving Flask app '__main__'\n",
      " * Debug mode: off\n"
     ]
    },
    {
     "name": "stderr",
     "output_type": "stream",
     "text": [
      "WARNING: This is a development server. Do not use it in a production deployment. Use a production WSGI server instead.\n",
      " * Running on http://127.0.0.1:5000\n",
      "Press CTRL+C to quit\n"
     ]
    },
    {
     "name": "stdout",
     "output_type": "stream",
     "text": [
      "Browser opened. The application is now running.\n",
      "Control the mouse with your hand. Close the browser or use the 'Buy Now' flow to exit.\n",
      "AI Virtual Mouse thread started.\n"
     ]
    },
    {
     "name": "stderr",
     "output_type": "stream",
     "text": [
      "127.0.0.1 - - [21/Jul/2025 22:57:57] \"GET / HTTP/1.1\" 200 -\n",
      "127.0.0.1 - - [21/Jul/2025 22:57:59] \"GET /favicon.ico HTTP/1.1\" 404 -\n",
      "[2025-07-21 22:59:19,901] ERROR in app: Exception on /shutdown [GET]\n",
      "Traceback (most recent call last):\n",
      "  File \"C:\\Projects\\Virtual_Mouse\\.venv\\lib\\site-packages\\flask\\app.py\", line 1511, in wsgi_app\n",
      "    response = self.full_dispatch_request()\n",
      "  File \"C:\\Projects\\Virtual_Mouse\\.venv\\lib\\site-packages\\flask\\app.py\", line 919, in full_dispatch_request\n",
      "    rv = self.handle_user_exception(e)\n",
      "  File \"C:\\Projects\\Virtual_Mouse\\.venv\\lib\\site-packages\\flask\\app.py\", line 917, in full_dispatch_request\n",
      "    rv = self.dispatch_request()\n",
      "  File \"C:\\Projects\\Virtual_Mouse\\.venv\\lib\\site-packages\\flask\\app.py\", line 902, in dispatch_request\n",
      "    return self.ensure_sync(self.view_functions[rule.endpoint])(**view_args)  # type: ignore[no-any-return]\n",
      "  File \"C:\\Users\\sagni\\AppData\\Local\\Temp\\ipykernel_28760\\2679668277.py\", line 17, in shutdown\n",
      "    raise RuntimeError('Not running with the Werkzeug Server')\n",
      "RuntimeError: Not running with the Werkzeug Server\n",
      "127.0.0.1 - - [21/Jul/2025 22:59:19] \"GET /shutdown HTTP/1.1\" 500 -\n"
     ]
    },
    {
     "name": "stdout",
     "output_type": "stream",
     "text": [
      "Shutdown signal received from browser.\n",
      "Main thread received shutdown signal. Terminating.\n",
      "Virtual mouse thread shutting down...\n",
      "Application has terminated successfully.\n"
     ]
    }
   ],
   "execution_count": 7
  },
  {
   "metadata": {},
   "cell_type": "code",
   "outputs": [],
   "execution_count": null,
   "source": "",
   "id": "8149b4d03111e7f1"
  }
 ],
 "metadata": {
  "kernelspec": {
   "display_name": "Python 3",
   "language": "python",
   "name": "python3"
  },
  "language_info": {
   "codemirror_mode": {
    "name": "ipython",
    "version": 2
   },
   "file_extension": ".py",
   "mimetype": "text/x-python",
   "name": "python",
   "nbconvert_exporter": "python",
   "pygments_lexer": "ipython2",
   "version": "2.7.6"
  }
 },
 "nbformat": 4,
 "nbformat_minor": 5
}
